{
 "cells": [
  {
   "cell_type": "code",
   "execution_count": 1,
   "metadata": {},
   "outputs": [],
   "source": [
    "import pandas as pd\n",
    "import numpy as np"
   ]
  },
  {
   "cell_type": "code",
   "execution_count": 15,
   "metadata": {},
   "outputs": [],
   "source": [
    "apple = pd.read_csv(\"Datasets/AAPL1424.csv\")\n",
    "amazon = pd.read_csv(\"Datasets/AMZN1424.csv\")\n",
    "google = pd.read_csv(\"Datasets/GOOGL1424.csv\")\n",
    "meta = pd.read_csv(\"Datasets/META1424.csv\")\n",
    "microsoft = pd.read_csv(\"Datasets/MSFT1424.csv\")\n",
    "nvidia = pd.read_csv(\"Datasets/NVDA1424.csv\")\n",
    "tesla = pd.read_csv(\"Datasets/TSLA1424.csv\")"
   ]
  },
  {
   "cell_type": "code",
   "execution_count": null,
   "metadata": {},
   "outputs": [],
   "source": []
  }
 ],
 "metadata": {
  "kernelspec": {
   "display_name": "Python 3",
   "language": "python",
   "name": "python3"
  },
  "language_info": {
   "codemirror_mode": {
    "name": "ipython",
    "version": 3
   },
   "file_extension": ".py",
   "mimetype": "text/x-python",
   "name": "python",
   "nbconvert_exporter": "python",
   "pygments_lexer": "ipython3",
   "version": "3.12.6"
  }
 },
 "nbformat": 4,
 "nbformat_minor": 2
}
